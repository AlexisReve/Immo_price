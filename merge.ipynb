{
 "cells": [
  {
   "cell_type": "code",
   "execution_count": null,
   "metadata": {},
   "outputs": [],
   "source": [
    "import pandas as pd\n",
    "import openpyxl\n",
    "import numpy as np"
   ]
  },
  {
   "cell_type": "code",
   "execution_count": null,
   "metadata": {},
   "outputs": [],
   "source": [
    "data_14 = pd.read_csv('immo/2014.csv').drop(columns='Unnamed: 0')\n",
    "data_15 = pd.read_csv('immo/2015.csv').drop(columns='Unnamed: 0')\n",
    "data_16 = pd.read_csv('immo/2016.csv').drop(columns='Unnamed: 0')\n",
    "data_17 = pd.read_csv('immo/2017.csv').drop(columns='Unnamed: 0')\n",
    "data_18 = pd.read_csv('immo/2018.csv').drop(columns='Unnamed: 0')\n",
    "data_19 = pd.read_csv('immo/2019.csv').drop(columns='Unnamed: 0')\n",
    "data_20 = pd.read_csv('immo/2020.csv').drop(columns='Unnamed: 0')\n",
    "data_21 = pd.read_csv('immo/2021.csv').drop(columns='Unnamed: 0')\n"
   ]
  },
  {
   "cell_type": "code",
   "execution_count": null,
   "metadata": {},
   "outputs": [],
   "source": [
    "data = pd.concat([data_14, data_15, data_16, data_17, data_18, data_19, data_20, data_21])\n",
    "print(data.shape)\n",
    "data = data.rename(columns={\"INSEE_COM\" : \"Code INSEE\"})\n",
    "data.head()"
   ]
  },
  {
   "cell_type": "code",
   "execution_count": null,
   "metadata": {},
   "outputs": [],
   "source": [
    "commune_df = pd.read_csv(\"immo/correspondance-code-insee-code-postal.csv\", sep=';', usecols=[\"Code INSEE\", \"Commune\"])\n",
    "commune_df.head()"
   ]
  },
  {
   "cell_type": "code",
   "execution_count": null,
   "metadata": {},
   "outputs": [],
   "source": [
    "data = data.merge(commune_df, how='left', on='Code INSEE').dropna(subset=[\"Code INSEE\"])\n",
    "data"
   ]
  },
  {
   "cell_type": "code",
   "execution_count": null,
   "metadata": {},
   "outputs": [],
   "source": [
    "data.loc[data[\"Code INSEE\"] == \"75056\", \"Commune\"] = \"PARIS\"\n",
    "data.loc[data[\"Code INSEE\"] == \"13055\", \"Commune\"] = \"MARSEILLE\""
   ]
  },
  {
   "cell_type": "code",
   "execution_count": null,
   "metadata": {},
   "outputs": [],
   "source": [
    "# Detect the encoding of the file\n",
    "import chardet\n",
    "\n",
    "file_path = 'immo/gares-tgv.csv'\n",
    "with open(file_path, 'rb') as f:\n",
    "    result = chardet.detect(f.read())\n",
    "encoding = result['encoding']\n",
    "encoding"
   ]
  },
  {
   "cell_type": "code",
   "execution_count": null,
   "metadata": {},
   "outputs": [],
   "source": [
    "# TGV\n",
    "tgv = pd.read_csv('immo/gares-tgv.csv', encoding=encoding).drop(columns='Unnamed: 0')\n",
    "tgv_list = tgv['Nom_Gare'].unique()\n",
    "print(len(tgv_list))\n",
    "tgv.head()"
   ]
  },
  {
   "cell_type": "code",
   "execution_count": null,
   "metadata": {},
   "outputs": [],
   "source": [
    "gares = pd.read_csv(\"immo/liste-des-gares.csv\", sep = \";\", usecols=[\"libelle\", \"code_ligne\", \"commune\", \"voyageurs\"]).rename(columns={\"libelle\" : \"Nom_gare\",\n",
    "                                                                                                                    \"commune\" : \"Commune\"})\n",
    "gares = gares[gares[\"voyageurs\"] == \"O\"].reset_index(drop=True)\n",
    "print(gares.shape)\n",
    "gares.head()"
   ]
  },
  {
   "cell_type": "code",
   "execution_count": null,
   "metadata": {},
   "outputs": [],
   "source": [
    "gares.isna().sum()"
   ]
  },
  {
   "cell_type": "code",
   "execution_count": null,
   "metadata": {},
   "outputs": [],
   "source": [
    "gares = gares.merge(commune_df, how='left', on='Commune').dropna(subset=[\"Code INSEE\"]).reset_index(drop=True)\n",
    "gares.head()"
   ]
  },
  {
   "cell_type": "code",
   "execution_count": null,
   "metadata": {},
   "outputs": [],
   "source": [
    "gares.isna().sum()"
   ]
  },
  {
   "cell_type": "code",
   "execution_count": null,
   "metadata": {},
   "outputs": [],
   "source": [
    "for index, el in enumerate(gares[\"Nom_gare\"]):\n",
    "    if el in tgv_list:\n",
    "        gares.loc[index, \"TGV\"] = \"Gare TGV\"\n",
    "    else:\n",
    "        gares.loc[index, \"TGV\"] = \"Gare voyageurs non TGV\"\n",
    "\n",
    "gares.drop(columns=[\"Commune\", \"voyageurs\", \"code_ligne\"], inplace=True)\n",
    "gares.tail()"
   ]
  },
  {
   "cell_type": "code",
   "execution_count": null,
   "metadata": {},
   "outputs": [],
   "source": [
    "gares[gares[\"TGV\"] == \"Gare voyageurs non TGV\"].head()"
   ]
  },
  {
   "cell_type": "code",
   "execution_count": null,
   "metadata": {},
   "outputs": [],
   "source": [
    "print(gares.shape)\n",
    "gares[\"TGV\"].unique()"
   ]
  },
  {
   "cell_type": "code",
   "execution_count": null,
   "metadata": {},
   "outputs": [],
   "source": [
    "# merge avec data immo\n",
    "\n",
    "data = data.merge(gares, how='left', on=\"Code INSEE\")\n",
    "data['TGV'] = data['TGV'].fillna(\"Pas de gare\")\n",
    "data"
   ]
  },
  {
   "cell_type": "code",
   "execution_count": null,
   "metadata": {},
   "outputs": [],
   "source": [
    "data[\"TGV\"].value_counts()"
   ]
  },
  {
   "cell_type": "code",
   "execution_count": null,
   "metadata": {},
   "outputs": [],
   "source": [
    "data.loc[data[\"Code INSEE\"] == \"75056\", :]"
   ]
  },
  {
   "cell_type": "code",
   "execution_count": null,
   "metadata": {},
   "outputs": [],
   "source": [
    "ville = [\n",
    "    \"75056\",  # Paris\n",
    "    \"69123\",  # Lyon\n",
    "    \"13055\",  # Marseille\n",
    "    \"33063\",  # Bordeaux\n",
    "    \"59350\",  # Lille\n",
    "    \"31555\",  # Toulouse\n",
    "    \"44109\",  # Nantes\n",
    "    \"67482\",  # Strasbourg\n",
    "    \"35238\",  # Rennes\n",
    "    \"06088\",  # Nice\n",
    "    \"34172\",  # Montpellier\n",
    "    \"38185\",  # Grenoble\n",
    "    \"76351\",  # Le Havre\n",
    "    \"51454\",  # Reims\n",
    "    \"76540\"   # Rouen\n",
    "]\n",
    "\n",
    "\n",
    "\n",
    "data[data[\"Code INSEE\"].isin(ville)]\n",
    "for index, el in enumerate(data[\"Code INSEE\"]):\n",
    "    if el in ville:\n",
    "        data.loc[index, \"TGV\"] = \"Gare TGV\"\n"
   ]
  },
  {
   "cell_type": "code",
   "execution_count": null,
   "metadata": {},
   "outputs": [],
   "source": [
    "# On prends les départements\n",
    "data[\"code\"] = data[\"Code INSEE\"].str[:2]\n",
    "data.dropna(subset=['code'], inplace=True)"
   ]
  },
  {
   "cell_type": "code",
   "execution_count": null,
   "metadata": {},
   "outputs": [],
   "source": [
    "data.to_csv(\"TGV.csv\", sep = \";\", index=False)"
   ]
  },
  {
   "attachments": {},
   "cell_type": "markdown",
   "metadata": {},
   "source": [
    "## Génération de la carte intéractive"
   ]
  },
  {
   "cell_type": "code",
   "execution_count": null,
   "metadata": {},
   "outputs": [],
   "source": [
    "import folium\n",
    "\n",
    "paris = folium.Map(location = [46.8534, 2.3488], zoom_start=6,tiles = \"https://{s}.tile.openstreetmap.fr/osmfr/{z}/{x}/{y}.png\",\n",
    "                  attr = '&copy; OpenStreetMap France | &copy; <a href=\"https://www.openstreetmap.org/copyright\">OpenStreetMap</a> contributors')"
   ]
  },
  {
   "cell_type": "code",
   "execution_count": null,
   "metadata": {},
   "outputs": [],
   "source": [
    "print(df.shape)"
   ]
  },
  {
   "cell_type": "code",
   "execution_count": null,
   "metadata": {},
   "outputs": [],
   "source": [
    "df = data[data[\"Annee\"] == 2021]\n",
    "count = df.groupby([\"code\", \"TGV\"]).size().to_frame().reset_index().rename(columns={0 : \"Occurences\"})\n",
    "df = df.groupby(by=[\"code\"]).agg(Nb_mutations =(\"Nb_mutations\", 'sum'), Prixm2Moyen = ('Prixm2Moyen', 'mean'),\n",
    "                                 SurfaceMoy = ('SurfaceMoy', 'mean'))\n",
    "\n",
    "count = count.pivot_table(index='code', columns='TGV', values='Occurences').reset_index()\n",
    "df = df.merge(count, how='left', on='code')\n",
    "df"
   ]
  },
  {
   "cell_type": "code",
   "execution_count": null,
   "metadata": {},
   "outputs": [],
   "source": [
    "# Correction nombre de gares à paris\n",
    "for index, el in enumerate(df[\"code\"]):\n",
    "    if el == \"75\":\n",
    "        df.loc[index, \"Gare TGV\"] = 4"
   ]
  },
  {
   "cell_type": "code",
   "execution_count": null,
   "metadata": {},
   "outputs": [],
   "source": [
    "# Augmenter le geojson\n",
    "\n",
    "import json\n",
    "\n",
    "with open('immo/departements.geojson', 'r') as file:\n",
    "    geojson_data = json.load(file)\n",
    "\n",
    "for feature in geojson_data['features']:\n",
    "    code = feature['properties']['code']\n",
    "    # Ajouter la propriété \"TGV\" en fonction de la valeur correspondante dans votre DataFrame\n",
    "    if code in df['code'].values:\n",
    "        tgv_value = df.loc[df['code'] == code, 'Gare TGV'].iloc[0]\n",
    "        feature['properties']['Gare TGV'] = tgv_value\n",
    "\n",
    "        gare_voyageurs = df.loc[df['code'] == code, 'Gare voyageurs non TGV'].iloc[0]\n",
    "        feature['properties']['Gare voyageurs non TGV'] = gare_voyageurs\n",
    "    else:\n",
    "        feature['properties']['Gare TGV'] = \"Aucune données disponibles\"\n",
    "        feature['properties']['Gare voyageurs non TGV'] = \"Aucune données disponibles\"\n",
    "\n",
    "with open('immo/modified_departements.geojson', 'w') as file:\n",
    "    json.dump(geojson_data, file)"
   ]
  },
  {
   "cell_type": "code",
   "execution_count": null,
   "metadata": {},
   "outputs": [],
   "source": [
    "\n",
    "paris = folium.Map(location = [46.8534, 2.3488], zoom_start=6, min_zoom=4, tiles = \"https://{s}.tile.openstreetmap.fr/osmfr/{z}/{x}/{y}.png\",\n",
    "        attr = '&copy; OpenStreetMap France | &copy; <a href=\"https://www.openstreetmap.org/copyright\">OpenStreetMap</a> contributors')\n",
    "\n",
    "choropleth = folium.Choropleth(\n",
    "geo_data= \"immo/modified_departements.geojson\",\n",
    "name=\"choropleth\",\n",
    "data= df,\n",
    "columns=[\"code\", \"Prixm2Moyen\"],\n",
    "key_on=\"feature.properties.code\",\n",
    "fill_color=\"YlOrRd\",\n",
    "fill_opacity=0.7,\n",
    "line_opacity=0.5,\n",
    "highlight = True,\n",
    ")\n",
    "choropleth.geojson.add_to(paris)\n",
    "\n",
    "result_indexed = df.set_index('code')\n",
    "\n",
    "for feature in choropleth.geojson.data['features']:\n",
    "    Communes = feature['properties']['code']\n",
    "    feature['properties']['Prixm2Moyen'] = '{:,.0f} €'.format(result_indexed.loc[Communes, 'Prixm2Moyen']).replace(',', ' ') if Communes in list(result_indexed.index) else 'Aucune données disponibles'\n",
    "    feature['properties']['Nb_mutations'] = format(result_indexed.loc[Communes, 'Nb_mutations']) if Communes in list(result_indexed.index) else 'Aucune données disponibles'\n",
    "    feature['properties']['SurfaceMoy'] = '{:,.0f} m2'.format(result_indexed.loc[Communes, 'SurfaceMoy']) if Communes in list(result_indexed.index) else 'Aucune données disponibles'\n",
    "    \n",
    "\n",
    "folium.GeoJsonTooltip(['nom', \"Prixm2Moyen\", 'SurfaceMoy', 'Nb_mutations', \"Gare TGV\", \"Gare voyageurs non TGV\" ]).add_to(choropleth.geojson)    "
   ]
  },
  {
   "cell_type": "code",
   "execution_count": null,
   "metadata": {},
   "outputs": [],
   "source": [
    "paris.save(\"map.html\")"
   ]
  },
  {
   "cell_type": "code",
   "execution_count": null,
   "metadata": {},
   "outputs": [],
   "source": [
    "paris"
   ]
  }
 ],
 "metadata": {
  "kernelspec": {
   "display_name": "Python 3",
   "language": "python",
   "name": "python3"
  },
  "language_info": {
   "codemirror_mode": {
    "name": "ipython",
    "version": 3
   },
   "file_extension": ".py",
   "mimetype": "text/x-python",
   "name": "python",
   "nbconvert_exporter": "python",
   "pygments_lexer": "ipython3",
   "version": "3.9.16"
  },
  "orig_nbformat": 4
 },
 "nbformat": 4,
 "nbformat_minor": 2
}
